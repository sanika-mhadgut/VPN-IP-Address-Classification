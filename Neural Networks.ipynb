{
 "cells": [
  {
   "cell_type": "markdown",
   "metadata": {},
   "source": [
    "## Group Number: 9\n",
    "## Names: Aaryan, Sanika, Neelakshi \n",
    "## Project Name: VPN Classification"
   ]
  },
  {
   "cell_type": "code",
   "execution_count": 18,
   "metadata": {
    "id": "Y6QgTkvDZ8_t"
   },
   "outputs": [],
   "source": [
    "# Importing Files\n",
    "import pandas as pd\n",
    "from imblearn.over_sampling import ADASYN\n",
    "from imblearn.under_sampling import RandomUnderSampler\n",
    "from sklearn.model_selection import train_test_split\n",
    "from sklearn.metrics import classification_report, confusion_matrix, f1_score\n",
    "import matplotlib.pyplot as plt\n",
    "from tensorflow.keras.models import Sequential\n",
    "from tensorflow.keras.layers import Dense, Dropout\n",
    "from tensorflow.keras.optimizers import Adam\n",
    "import seaborn as sns"
   ]
  },
  {
   "cell_type": "code",
   "execution_count": 2,
   "metadata": {
    "id": "0rEf_hAaptlt"
   },
   "outputs": [],
   "source": [
    "root_path = '/content/drive/MyDrive/Colab Notebooks/CS513/'"
   ]
  },
  {
   "cell_type": "code",
   "execution_count": 3,
   "metadata": {
    "colab": {
     "base_uri": "https://localhost:8080/",
     "height": 254
    },
    "id": "yjyMK4EaaDn6",
    "outputId": "feaa5cf4-4e12-427f-b322-320116f0afdc"
   },
   "outputs": [
    {
     "name": "stdout",
     "output_type": "stream",
     "text": [
      "(148259, 21)\n"
     ]
    },
    {
     "data": {
      "text/html": [
       "\n",
       "  <div id=\"df-16425db1-e774-4481-893d-5380097364b4\" class=\"colab-df-container\">\n",
       "    <div>\n",
       "<style scoped>\n",
       "    .dataframe tbody tr th:only-of-type {\n",
       "        vertical-align: middle;\n",
       "    }\n",
       "\n",
       "    .dataframe tbody tr th {\n",
       "        vertical-align: top;\n",
       "    }\n",
       "\n",
       "    .dataframe thead th {\n",
       "        text-align: right;\n",
       "    }\n",
       "</style>\n",
       "<table border=\"1\" class=\"dataframe\">\n",
       "  <thead>\n",
       "    <tr style=\"text-align: right;\">\n",
       "      <th></th>\n",
       "      <th>bruteforce</th>\n",
       "      <th>crawl</th>\n",
       "      <th>exploit</th>\n",
       "      <th>scan</th>\n",
       "      <th>spam</th>\n",
       "      <th>database</th>\n",
       "      <th>ftp</th>\n",
       "      <th>http</th>\n",
       "      <th>pop3/imap</th>\n",
       "      <th>sip</th>\n",
       "      <th>...</th>\n",
       "      <th>ssh</th>\n",
       "      <th>tcp</th>\n",
       "      <th>telnet</th>\n",
       "      <th>windows</th>\n",
       "      <th>port_22</th>\n",
       "      <th>port_443</th>\n",
       "      <th>port_7777</th>\n",
       "      <th>port_80</th>\n",
       "      <th>open_ports_count</th>\n",
       "      <th>label</th>\n",
       "    </tr>\n",
       "  </thead>\n",
       "  <tbody>\n",
       "    <tr>\n",
       "      <th>0</th>\n",
       "      <td>0.000000</td>\n",
       "      <td>0.0</td>\n",
       "      <td>0.000000</td>\n",
       "      <td>0.500000</td>\n",
       "      <td>0.500000</td>\n",
       "      <td>0</td>\n",
       "      <td>0</td>\n",
       "      <td>1</td>\n",
       "      <td>0</td>\n",
       "      <td>0</td>\n",
       "      <td>...</td>\n",
       "      <td>0</td>\n",
       "      <td>0</td>\n",
       "      <td>0</td>\n",
       "      <td>0</td>\n",
       "      <td>0</td>\n",
       "      <td>0</td>\n",
       "      <td>0</td>\n",
       "      <td>0</td>\n",
       "      <td>0</td>\n",
       "      <td>0</td>\n",
       "    </tr>\n",
       "    <tr>\n",
       "      <th>1</th>\n",
       "      <td>0.266667</td>\n",
       "      <td>0.0</td>\n",
       "      <td>0.466667</td>\n",
       "      <td>0.033333</td>\n",
       "      <td>0.233333</td>\n",
       "      <td>0</td>\n",
       "      <td>0</td>\n",
       "      <td>1</td>\n",
       "      <td>0</td>\n",
       "      <td>0</td>\n",
       "      <td>...</td>\n",
       "      <td>0</td>\n",
       "      <td>0</td>\n",
       "      <td>0</td>\n",
       "      <td>0</td>\n",
       "      <td>0</td>\n",
       "      <td>0</td>\n",
       "      <td>0</td>\n",
       "      <td>0</td>\n",
       "      <td>0</td>\n",
       "      <td>0</td>\n",
       "    </tr>\n",
       "    <tr>\n",
       "      <th>2</th>\n",
       "      <td>0.000000</td>\n",
       "      <td>0.0</td>\n",
       "      <td>0.000000</td>\n",
       "      <td>0.931034</td>\n",
       "      <td>0.068966</td>\n",
       "      <td>0</td>\n",
       "      <td>0</td>\n",
       "      <td>1</td>\n",
       "      <td>0</td>\n",
       "      <td>0</td>\n",
       "      <td>...</td>\n",
       "      <td>0</td>\n",
       "      <td>0</td>\n",
       "      <td>0</td>\n",
       "      <td>0</td>\n",
       "      <td>0</td>\n",
       "      <td>0</td>\n",
       "      <td>0</td>\n",
       "      <td>0</td>\n",
       "      <td>0</td>\n",
       "      <td>0</td>\n",
       "    </tr>\n",
       "    <tr>\n",
       "      <th>3</th>\n",
       "      <td>0.080000</td>\n",
       "      <td>0.0</td>\n",
       "      <td>0.600000</td>\n",
       "      <td>0.040000</td>\n",
       "      <td>0.280000</td>\n",
       "      <td>0</td>\n",
       "      <td>0</td>\n",
       "      <td>1</td>\n",
       "      <td>0</td>\n",
       "      <td>0</td>\n",
       "      <td>...</td>\n",
       "      <td>0</td>\n",
       "      <td>0</td>\n",
       "      <td>0</td>\n",
       "      <td>0</td>\n",
       "      <td>0</td>\n",
       "      <td>0</td>\n",
       "      <td>0</td>\n",
       "      <td>0</td>\n",
       "      <td>0</td>\n",
       "      <td>0</td>\n",
       "    </tr>\n",
       "    <tr>\n",
       "      <th>4</th>\n",
       "      <td>0.235294</td>\n",
       "      <td>0.0</td>\n",
       "      <td>0.455882</td>\n",
       "      <td>0.058824</td>\n",
       "      <td>0.250000</td>\n",
       "      <td>0</td>\n",
       "      <td>0</td>\n",
       "      <td>1</td>\n",
       "      <td>0</td>\n",
       "      <td>0</td>\n",
       "      <td>...</td>\n",
       "      <td>0</td>\n",
       "      <td>0</td>\n",
       "      <td>0</td>\n",
       "      <td>0</td>\n",
       "      <td>0</td>\n",
       "      <td>0</td>\n",
       "      <td>0</td>\n",
       "      <td>0</td>\n",
       "      <td>0</td>\n",
       "      <td>0</td>\n",
       "    </tr>\n",
       "  </tbody>\n",
       "</table>\n",
       "<p>5 rows × 21 columns</p>\n",
       "</div>\n",
       "    <div class=\"colab-df-buttons\">\n",
       "\n",
       "  <div class=\"colab-df-container\">\n",
       "    <button class=\"colab-df-convert\" onclick=\"convertToInteractive('df-16425db1-e774-4481-893d-5380097364b4')\"\n",
       "            title=\"Convert this dataframe to an interactive table.\"\n",
       "            style=\"display:none;\">\n",
       "\n",
       "  <svg xmlns=\"http://www.w3.org/2000/svg\" height=\"24px\" viewBox=\"0 -960 960 960\">\n",
       "    <path d=\"M120-120v-720h720v720H120Zm60-500h600v-160H180v160Zm220 220h160v-160H400v160Zm0 220h160v-160H400v160ZM180-400h160v-160H180v160Zm440 0h160v-160H620v160ZM180-180h160v-160H180v160Zm440 0h160v-160H620v160Z\"/>\n",
       "  </svg>\n",
       "    </button>\n",
       "\n",
       "  <style>\n",
       "    .colab-df-container {\n",
       "      display:flex;\n",
       "      gap: 12px;\n",
       "    }\n",
       "\n",
       "    .colab-df-convert {\n",
       "      background-color: #E8F0FE;\n",
       "      border: none;\n",
       "      border-radius: 50%;\n",
       "      cursor: pointer;\n",
       "      display: none;\n",
       "      fill: #1967D2;\n",
       "      height: 32px;\n",
       "      padding: 0 0 0 0;\n",
       "      width: 32px;\n",
       "    }\n",
       "\n",
       "    .colab-df-convert:hover {\n",
       "      background-color: #E2EBFA;\n",
       "      box-shadow: 0px 1px 2px rgba(60, 64, 67, 0.3), 0px 1px 3px 1px rgba(60, 64, 67, 0.15);\n",
       "      fill: #174EA6;\n",
       "    }\n",
       "\n",
       "    .colab-df-buttons div {\n",
       "      margin-bottom: 4px;\n",
       "    }\n",
       "\n",
       "    [theme=dark] .colab-df-convert {\n",
       "      background-color: #3B4455;\n",
       "      fill: #D2E3FC;\n",
       "    }\n",
       "\n",
       "    [theme=dark] .colab-df-convert:hover {\n",
       "      background-color: #434B5C;\n",
       "      box-shadow: 0px 1px 3px 1px rgba(0, 0, 0, 0.15);\n",
       "      filter: drop-shadow(0px 1px 2px rgba(0, 0, 0, 0.3));\n",
       "      fill: #FFFFFF;\n",
       "    }\n",
       "  </style>\n",
       "\n",
       "    <script>\n",
       "      const buttonEl =\n",
       "        document.querySelector('#df-16425db1-e774-4481-893d-5380097364b4 button.colab-df-convert');\n",
       "      buttonEl.style.display =\n",
       "        google.colab.kernel.accessAllowed ? 'block' : 'none';\n",
       "\n",
       "      async function convertToInteractive(key) {\n",
       "        const element = document.querySelector('#df-16425db1-e774-4481-893d-5380097364b4');\n",
       "        const dataTable =\n",
       "          await google.colab.kernel.invokeFunction('convertToInteractive',\n",
       "                                                    [key], {});\n",
       "        if (!dataTable) return;\n",
       "\n",
       "        const docLinkHtml = 'Like what you see? Visit the ' +\n",
       "          '<a target=\"_blank\" href=https://colab.research.google.com/notebooks/data_table.ipynb>data table notebook</a>'\n",
       "          + ' to learn more about interactive tables.';\n",
       "        element.innerHTML = '';\n",
       "        dataTable['output_type'] = 'display_data';\n",
       "        await google.colab.output.renderOutput(dataTable, element);\n",
       "        const docLink = document.createElement('div');\n",
       "        docLink.innerHTML = docLinkHtml;\n",
       "        element.appendChild(docLink);\n",
       "      }\n",
       "    </script>\n",
       "  </div>\n",
       "\n",
       "\n",
       "<div id=\"df-a570970f-cf28-45a1-a932-c4d5ca380c1d\">\n",
       "  <button class=\"colab-df-quickchart\" onclick=\"quickchart('df-a570970f-cf28-45a1-a932-c4d5ca380c1d')\"\n",
       "            title=\"Suggest charts\"\n",
       "            style=\"display:none;\">\n",
       "\n",
       "<svg xmlns=\"http://www.w3.org/2000/svg\" height=\"24px\"viewBox=\"0 0 24 24\"\n",
       "     width=\"24px\">\n",
       "    <g>\n",
       "        <path d=\"M19 3H5c-1.1 0-2 .9-2 2v14c0 1.1.9 2 2 2h14c1.1 0 2-.9 2-2V5c0-1.1-.9-2-2-2zM9 17H7v-7h2v7zm4 0h-2V7h2v10zm4 0h-2v-4h2v4z\"/>\n",
       "    </g>\n",
       "</svg>\n",
       "  </button>\n",
       "\n",
       "<style>\n",
       "  .colab-df-quickchart {\n",
       "      --bg-color: #E8F0FE;\n",
       "      --fill-color: #1967D2;\n",
       "      --hover-bg-color: #E2EBFA;\n",
       "      --hover-fill-color: #174EA6;\n",
       "      --disabled-fill-color: #AAA;\n",
       "      --disabled-bg-color: #DDD;\n",
       "  }\n",
       "\n",
       "  [theme=dark] .colab-df-quickchart {\n",
       "      --bg-color: #3B4455;\n",
       "      --fill-color: #D2E3FC;\n",
       "      --hover-bg-color: #434B5C;\n",
       "      --hover-fill-color: #FFFFFF;\n",
       "      --disabled-bg-color: #3B4455;\n",
       "      --disabled-fill-color: #666;\n",
       "  }\n",
       "\n",
       "  .colab-df-quickchart {\n",
       "    background-color: var(--bg-color);\n",
       "    border: none;\n",
       "    border-radius: 50%;\n",
       "    cursor: pointer;\n",
       "    display: none;\n",
       "    fill: var(--fill-color);\n",
       "    height: 32px;\n",
       "    padding: 0;\n",
       "    width: 32px;\n",
       "  }\n",
       "\n",
       "  .colab-df-quickchart:hover {\n",
       "    background-color: var(--hover-bg-color);\n",
       "    box-shadow: 0 1px 2px rgba(60, 64, 67, 0.3), 0 1px 3px 1px rgba(60, 64, 67, 0.15);\n",
       "    fill: var(--button-hover-fill-color);\n",
       "  }\n",
       "\n",
       "  .colab-df-quickchart-complete:disabled,\n",
       "  .colab-df-quickchart-complete:disabled:hover {\n",
       "    background-color: var(--disabled-bg-color);\n",
       "    fill: var(--disabled-fill-color);\n",
       "    box-shadow: none;\n",
       "  }\n",
       "\n",
       "  .colab-df-spinner {\n",
       "    border: 2px solid var(--fill-color);\n",
       "    border-color: transparent;\n",
       "    border-bottom-color: var(--fill-color);\n",
       "    animation:\n",
       "      spin 1s steps(1) infinite;\n",
       "  }\n",
       "\n",
       "  @keyframes spin {\n",
       "    0% {\n",
       "      border-color: transparent;\n",
       "      border-bottom-color: var(--fill-color);\n",
       "      border-left-color: var(--fill-color);\n",
       "    }\n",
       "    20% {\n",
       "      border-color: transparent;\n",
       "      border-left-color: var(--fill-color);\n",
       "      border-top-color: var(--fill-color);\n",
       "    }\n",
       "    30% {\n",
       "      border-color: transparent;\n",
       "      border-left-color: var(--fill-color);\n",
       "      border-top-color: var(--fill-color);\n",
       "      border-right-color: var(--fill-color);\n",
       "    }\n",
       "    40% {\n",
       "      border-color: transparent;\n",
       "      border-right-color: var(--fill-color);\n",
       "      border-top-color: var(--fill-color);\n",
       "    }\n",
       "    60% {\n",
       "      border-color: transparent;\n",
       "      border-right-color: var(--fill-color);\n",
       "    }\n",
       "    80% {\n",
       "      border-color: transparent;\n",
       "      border-right-color: var(--fill-color);\n",
       "      border-bottom-color: var(--fill-color);\n",
       "    }\n",
       "    90% {\n",
       "      border-color: transparent;\n",
       "      border-bottom-color: var(--fill-color);\n",
       "    }\n",
       "  }\n",
       "</style>\n",
       "\n",
       "  <script>\n",
       "    async function quickchart(key) {\n",
       "      const quickchartButtonEl =\n",
       "        document.querySelector('#' + key + ' button');\n",
       "      quickchartButtonEl.disabled = true;  // To prevent multiple clicks.\n",
       "      quickchartButtonEl.classList.add('colab-df-spinner');\n",
       "      try {\n",
       "        const charts = await google.colab.kernel.invokeFunction(\n",
       "            'suggestCharts', [key], {});\n",
       "      } catch (error) {\n",
       "        console.error('Error during call to suggestCharts:', error);\n",
       "      }\n",
       "      quickchartButtonEl.classList.remove('colab-df-spinner');\n",
       "      quickchartButtonEl.classList.add('colab-df-quickchart-complete');\n",
       "    }\n",
       "    (() => {\n",
       "      let quickchartButtonEl =\n",
       "        document.querySelector('#df-a570970f-cf28-45a1-a932-c4d5ca380c1d button');\n",
       "      quickchartButtonEl.style.display =\n",
       "        google.colab.kernel.accessAllowed ? 'block' : 'none';\n",
       "    })();\n",
       "  </script>\n",
       "</div>\n",
       "    </div>\n",
       "  </div>\n"
      ],
      "text/plain": [
       "   bruteforce  crawl   exploit      scan      spam  database  ftp  http  \\\n",
       "0    0.000000    0.0  0.000000  0.500000  0.500000         0    0     1   \n",
       "1    0.266667    0.0  0.466667  0.033333  0.233333         0    0     1   \n",
       "2    0.000000    0.0  0.000000  0.931034  0.068966         0    0     1   \n",
       "3    0.080000    0.0  0.600000  0.040000  0.280000         0    0     1   \n",
       "4    0.235294    0.0  0.455882  0.058824  0.250000         0    0     1   \n",
       "\n",
       "   pop3/imap  sip  ...  ssh  tcp  telnet  windows  port_22  port_443  \\\n",
       "0          0    0  ...    0    0       0        0        0         0   \n",
       "1          0    0  ...    0    0       0        0        0         0   \n",
       "2          0    0  ...    0    0       0        0        0         0   \n",
       "3          0    0  ...    0    0       0        0        0         0   \n",
       "4          0    0  ...    0    0       0        0        0         0   \n",
       "\n",
       "   port_7777  port_80  open_ports_count  label  \n",
       "0          0        0                 0      0  \n",
       "1          0        0                 0      0  \n",
       "2          0        0                 0      0  \n",
       "3          0        0                 0      0  \n",
       "4          0        0                 0      0  \n",
       "\n",
       "[5 rows x 21 columns]"
      ]
     },
     "execution_count": 3,
     "metadata": {},
     "output_type": "execute_result"
    }
   ],
   "source": [
    "#Loading the dataset\n",
    "dataset = pd.read_csv(root_path + 'processed_data.csv')\n",
    "print(dataset.shape)\n",
    "dataset.head()"
   ]
  },
  {
   "cell_type": "code",
   "execution_count": 4,
   "metadata": {
    "id": "R_47NamQZ8WV"
   },
   "outputs": [],
   "source": [
    "#train test split\n",
    "train, test = train_test_split(dataset, test_size=0.3)"
   ]
  },
  {
   "cell_type": "code",
   "execution_count": 5,
   "metadata": {
    "colab": {
     "base_uri": "https://localhost:8080/"
    },
    "id": "Zrc2Ys-GaCh0",
    "outputId": "5eb0d77a-37ba-41de-b276-5489a4b6e711"
   },
   "outputs": [
    {
     "name": "stdout",
     "output_type": "stream",
     "text": [
      "(103781, 20) (103781,) (44478, 20) (44478,)\n",
      "0    101758\n",
      "1      2023\n",
      "Name: label, dtype: int64\n",
      "0    43611\n",
      "1      867\n",
      "Name: label, dtype: int64\n"
     ]
    }
   ],
   "source": [
    "X_train_raw = train.drop([\"label\"], axis=1)\n",
    "y_train_raw = train[\"label\"]\n",
    "X_test_raw = test.drop([\"label\"], axis=1)\n",
    "y_test_raw = test[\"label\"]\n",
    "\n",
    "print(X_train_raw.shape, y_train_raw.shape, X_test_raw.shape, y_test_raw.shape)\n",
    "print(y_train_raw.value_counts())\n",
    "print(y_test_raw.value_counts())"
   ]
  },
  {
   "cell_type": "code",
   "execution_count": 6,
   "metadata": {
    "id": "sWpaLi_6aeS6"
   },
   "outputs": [],
   "source": [
    "#under and oversampling the data\n",
    "under = RandomUnderSampler(replacement=False)\n",
    "over = ADASYN(n_neighbors = 10, n_jobs=-1)"
   ]
  },
  {
   "cell_type": "code",
   "execution_count": 7,
   "metadata": {
    "colab": {
     "base_uri": "https://localhost:8080/"
    },
    "id": "0a7-mHZgaxgB",
    "outputId": "f22dcdb5-020f-40be-828e-b9c91bdb180a"
   },
   "outputs": [
    {
     "name": "stderr",
     "output_type": "stream",
     "text": [
      "/usr/local/lib/python3.10/dist-packages/imblearn/over_sampling/_adasyn.py:156: FutureWarning: The parameter `n_jobs` has been deprecated in 0.10 and will be removed in 0.12. You can pass an nearest neighbors estimator where `n_jobs` is already set instead.\n",
      "  warnings.warn(\n"
     ]
    }
   ],
   "source": [
    "X_train, y_train = over.fit_resample(X_train_raw, y_train_raw)\n",
    "X_test, y_test = under.fit_resample(X_test_raw, y_test_raw)"
   ]
  },
  {
   "cell_type": "code",
   "execution_count": 8,
   "metadata": {
    "colab": {
     "base_uri": "https://localhost:8080/"
    },
    "id": "W4nU4yGIa0r6",
    "outputId": "b74f7bf3-aeed-41f5-fea4-e5e96601c9b9"
   },
   "outputs": [
    {
     "name": "stdout",
     "output_type": "stream",
     "text": [
      "(203530, 20) (203530,) (1734, 20) (1734,)\n",
      "1    101772\n",
      "0    101758\n",
      "Name: label, dtype: int64\n",
      "0    867\n",
      "1    867\n",
      "Name: label, dtype: int64\n"
     ]
    }
   ],
   "source": [
    "print(X_train.shape, y_train.shape, X_test.shape, y_test.shape)\n",
    "print(y_train.value_counts())\n",
    "print(y_test.value_counts())"
   ]
  },
  {
   "cell_type": "code",
   "execution_count": null,
   "metadata": {
    "id": "swuDZaordl0f"
   },
   "outputs": [],
   "source": []
  },
  {
   "cell_type": "markdown",
   "metadata": {
    "id": "tbadk7aUn8y0"
   },
   "source": [
    "# **Model**"
   ]
  },
  {
   "cell_type": "code",
   "execution_count": 9,
   "metadata": {
    "id": "xtPZ_fi7eUza"
   },
   "outputs": [],
   "source": [
    "model = Sequential()\n",
    "model.add(Dense(64, activation='relu', input_shape=(X_train.shape[1],)))\n",
    "model.add(Dropout(0.2))  # Adding dropout for regularization\n",
    "model.add(Dense(64, activation='relu'))\n",
    "model.add(Dropout(0.2))\n",
    "model.add(Dense(32, activation='relu'))\n",
    "model.add(Dropout(0.2))\n",
    "model.add(Dense(1, activation='sigmoid'))  # Assuming binary classification, hence 1 neuron with sigmoid activation\n"
   ]
  },
  {
   "cell_type": "code",
   "execution_count": 10,
   "metadata": {
    "id": "YhUUu_tueYxy"
   },
   "outputs": [],
   "source": [
    "model.compile(loss='binary_crossentropy', optimizer=Adam(learning_rate=0.001), metrics=['accuracy'])\n"
   ]
  },
  {
   "cell_type": "code",
   "execution_count": 11,
   "metadata": {
    "colab": {
     "base_uri": "https://localhost:8080/"
    },
    "id": "FVJC6RbleaUh",
    "outputId": "92ffff81-02b4-48c4-f8d9-17cd6979e51e"
   },
   "outputs": [
    {
     "name": "stdout",
     "output_type": "stream",
     "text": [
      "Epoch 1/40\n",
      "1432/1432 [==============================] - 20s 5ms/step - loss: 0.2978 - accuracy: 0.8858 - val_loss: 0.3402 - val_accuracy: 0.8710\n",
      "Epoch 2/40\n",
      "1432/1432 [==============================] - 7s 5ms/step - loss: 0.2421 - accuracy: 0.9064 - val_loss: 0.2925 - val_accuracy: 0.8813\n",
      "Epoch 3/40\n",
      "1432/1432 [==============================] - 6s 4ms/step - loss: 0.2270 - accuracy: 0.9141 - val_loss: 0.2830 - val_accuracy: 0.8767\n",
      "Epoch 4/40\n",
      "1432/1432 [==============================] - 6s 4ms/step - loss: 0.2162 - accuracy: 0.9182 - val_loss: 0.2818 - val_accuracy: 0.8880\n",
      "Epoch 5/40\n",
      "1432/1432 [==============================] - 7s 5ms/step - loss: 0.2086 - accuracy: 0.9213 - val_loss: 0.2676 - val_accuracy: 0.8941\n",
      "Epoch 6/40\n",
      "1432/1432 [==============================] - 6s 4ms/step - loss: 0.2020 - accuracy: 0.9243 - val_loss: 0.2458 - val_accuracy: 0.9115\n",
      "Epoch 7/40\n",
      "1432/1432 [==============================] - 7s 5ms/step - loss: 0.1982 - accuracy: 0.9269 - val_loss: 0.2318 - val_accuracy: 0.9148\n",
      "Epoch 8/40\n",
      "1432/1432 [==============================] - 6s 4ms/step - loss: 0.1939 - accuracy: 0.9286 - val_loss: 0.2722 - val_accuracy: 0.9126\n",
      "Epoch 9/40\n",
      "1432/1432 [==============================] - 6s 4ms/step - loss: 0.1910 - accuracy: 0.9302 - val_loss: 0.2634 - val_accuracy: 0.9160\n",
      "Epoch 10/40\n",
      "1432/1432 [==============================] - 7s 5ms/step - loss: 0.1890 - accuracy: 0.9310 - val_loss: 0.2483 - val_accuracy: 0.9176\n",
      "Epoch 11/40\n",
      "1432/1432 [==============================] - 6s 4ms/step - loss: 0.1864 - accuracy: 0.9316 - val_loss: 0.2537 - val_accuracy: 0.9178\n",
      "Epoch 12/40\n",
      "1432/1432 [==============================] - 8s 5ms/step - loss: 0.1859 - accuracy: 0.9323 - val_loss: 0.2485 - val_accuracy: 0.9165\n",
      "Epoch 13/40\n",
      "1432/1432 [==============================] - 6s 4ms/step - loss: 0.1838 - accuracy: 0.9322 - val_loss: 0.2659 - val_accuracy: 0.9187\n",
      "Epoch 14/40\n",
      "1432/1432 [==============================] - 6s 4ms/step - loss: 0.1821 - accuracy: 0.9333 - val_loss: 0.2361 - val_accuracy: 0.9212\n",
      "Epoch 15/40\n",
      "1432/1432 [==============================] - 7s 5ms/step - loss: 0.1808 - accuracy: 0.9336 - val_loss: 0.2401 - val_accuracy: 0.9226\n",
      "Epoch 16/40\n",
      "1432/1432 [==============================] - 6s 4ms/step - loss: 0.1800 - accuracy: 0.9342 - val_loss: 0.2108 - val_accuracy: 0.9326\n",
      "Epoch 17/40\n",
      "1432/1432 [==============================] - 7s 5ms/step - loss: 0.1794 - accuracy: 0.9342 - val_loss: 0.2855 - val_accuracy: 0.9058\n",
      "Epoch 18/40\n",
      "1432/1432 [==============================] - 6s 4ms/step - loss: 0.1788 - accuracy: 0.9350 - val_loss: 0.2454 - val_accuracy: 0.9170\n",
      "Epoch 19/40\n",
      "1432/1432 [==============================] - 6s 4ms/step - loss: 0.1762 - accuracy: 0.9355 - val_loss: 0.2511 - val_accuracy: 0.9192\n",
      "Epoch 20/40\n",
      "1432/1432 [==============================] - 7s 5ms/step - loss: 0.1761 - accuracy: 0.9355 - val_loss: 0.2467 - val_accuracy: 0.9175\n",
      "Epoch 21/40\n",
      "1432/1432 [==============================] - 5s 4ms/step - loss: 0.1753 - accuracy: 0.9359 - val_loss: 0.2431 - val_accuracy: 0.9143\n",
      "Epoch 22/40\n",
      "1432/1432 [==============================] - 7s 5ms/step - loss: 0.1743 - accuracy: 0.9366 - val_loss: 0.2418 - val_accuracy: 0.9238\n",
      "Epoch 23/40\n",
      "1432/1432 [==============================] - 6s 4ms/step - loss: 0.1738 - accuracy: 0.9365 - val_loss: 0.2198 - val_accuracy: 0.9232\n",
      "Epoch 24/40\n",
      "1432/1432 [==============================] - 6s 4ms/step - loss: 0.1726 - accuracy: 0.9369 - val_loss: 0.2310 - val_accuracy: 0.9214\n",
      "Epoch 25/40\n",
      "1432/1432 [==============================] - 7s 5ms/step - loss: 0.1726 - accuracy: 0.9371 - val_loss: 0.2249 - val_accuracy: 0.9266\n",
      "Epoch 26/40\n",
      "1432/1432 [==============================] - 6s 4ms/step - loss: 0.1718 - accuracy: 0.9374 - val_loss: 0.2222 - val_accuracy: 0.9250\n",
      "Epoch 27/40\n",
      "1432/1432 [==============================] - 9s 6ms/step - loss: 0.1728 - accuracy: 0.9373 - val_loss: 0.2376 - val_accuracy: 0.9152\n",
      "Epoch 28/40\n",
      "1432/1432 [==============================] - 7s 5ms/step - loss: 0.1706 - accuracy: 0.9377 - val_loss: 0.2459 - val_accuracy: 0.9168\n",
      "Epoch 29/40\n",
      "1432/1432 [==============================] - 5s 4ms/step - loss: 0.1704 - accuracy: 0.9378 - val_loss: 0.2322 - val_accuracy: 0.9205\n",
      "Epoch 30/40\n",
      "1432/1432 [==============================] - 8s 5ms/step - loss: 0.1695 - accuracy: 0.9379 - val_loss: 0.2236 - val_accuracy: 0.9194\n",
      "Epoch 31/40\n",
      "1432/1432 [==============================] - 6s 4ms/step - loss: 0.1689 - accuracy: 0.9384 - val_loss: 0.2181 - val_accuracy: 0.9271\n",
      "Epoch 32/40\n",
      "1432/1432 [==============================] - 6s 4ms/step - loss: 0.1691 - accuracy: 0.9384 - val_loss: 0.2384 - val_accuracy: 0.9173\n",
      "Epoch 33/40\n",
      "1432/1432 [==============================] - 7s 5ms/step - loss: 0.1679 - accuracy: 0.9395 - val_loss: 0.2473 - val_accuracy: 0.9113\n",
      "Epoch 34/40\n",
      "1432/1432 [==============================] - 6s 4ms/step - loss: 0.1679 - accuracy: 0.9386 - val_loss: 0.2373 - val_accuracy: 0.9204\n",
      "Epoch 35/40\n",
      "1432/1432 [==============================] - 8s 5ms/step - loss: 0.1673 - accuracy: 0.9392 - val_loss: 0.2243 - val_accuracy: 0.9243\n",
      "Epoch 36/40\n",
      "1432/1432 [==============================] - 6s 4ms/step - loss: 0.1666 - accuracy: 0.9394 - val_loss: 0.2516 - val_accuracy: 0.9118\n",
      "Epoch 37/40\n",
      "1432/1432 [==============================] - 6s 4ms/step - loss: 0.1666 - accuracy: 0.9392 - val_loss: 0.2266 - val_accuracy: 0.9201\n",
      "Epoch 38/40\n",
      "1432/1432 [==============================] - 7s 5ms/step - loss: 0.1690 - accuracy: 0.9398 - val_loss: 0.2263 - val_accuracy: 0.9219\n",
      "Epoch 39/40\n",
      "1432/1432 [==============================] - 6s 4ms/step - loss: 0.1661 - accuracy: 0.9394 - val_loss: 0.2227 - val_accuracy: 0.9219\n",
      "Epoch 40/40\n",
      "1432/1432 [==============================] - 7s 5ms/step - loss: 0.1663 - accuracy: 0.9398 - val_loss: 0.2280 - val_accuracy: 0.9187\n"
     ]
    }
   ],
   "source": [
    "#Training the model\n",
    "history = model.fit(X_train, y_train, batch_size=128, epochs=40, validation_split=0.1)\n"
   ]
  },
  {
   "cell_type": "code",
   "execution_count": 12,
   "metadata": {
    "colab": {
     "base_uri": "https://localhost:8080/",
     "height": 472
    },
    "id": "sPoeTIm0ekBs",
    "outputId": "b30977f8-bbc6-4671-b4e5-ace844e7e514"
   },
   "outputs": [
    {
     "data": {
      "image/png": "[encoded data removed]",
      "text/plain": [
       "<Figure size 640x480 with 1 Axes>"
      ]
     },
     "metadata": {},
     "output_type": "display_data"
    }
   ],
   "source": [
    "#plotting losses\n",
    "plt.plot(history.history['loss'], label='Training Loss')\n",
    "plt.plot(history.history['val_loss'], label='Validation Loss')\n",
    "plt.title('Training and Validation Loss')\n",
    "plt.xlabel('Epochs')\n",
    "plt.ylabel('Loss')\n",
    "plt.legend()\n",
    "plt.show()\n"
   ]
  },
  {
   "cell_type": "code",
   "execution_count": 14,
   "metadata": {
    "colab": {
     "base_uri": "https://localhost:8080/"
    },
    "id": "WIPiam8_euRE",
    "outputId": "ac707390-eecf-4551-de70-801bf4cd1a1b"
   },
   "outputs": [
    {
     "name": "stdout",
     "output_type": "stream",
     "text": [
      "55/55 [==============================] - 0s 3ms/step - loss: 0.2924 - accuracy: 0.9216\n",
      "Test Accuracy: 0.9215686321258545\n"
     ]
    }
   ],
   "source": [
    "test_loss, test_accuracy = model.evaluate(X_test, y_test)\n",
    "print(f\"Test Accuracy: {test_accuracy}\")"
   ]
  },
  {
   "cell_type": "code",
   "execution_count": 15,
   "metadata": {
    "colab": {
     "base_uri": "https://localhost:8080/"
    },
    "id": "m1Flet8few9b",
    "outputId": "5e7acbfa-f261-4da0-b152-bcf41e65e25f"
   },
   "outputs": [
    {
     "name": "stdout",
     "output_type": "stream",
     "text": [
      "55/55 [==============================] - 0s 2ms/step\n"
     ]
    }
   ],
   "source": [
    "y_pred = model.predict(X_test)\n",
    "y_pred_binary = (y_pred > 0.5).astype(int)"
   ]
  },
  {
   "cell_type": "code",
   "execution_count": 19,
   "metadata": {
    "colab": {
     "base_uri": "https://localhost:8080/"
    },
    "id": "rJXZ7boz5anX",
    "outputId": "6a79b80c-6c99-4cf8-d193-942abcaaca52"
   },
   "outputs": [
    {
     "name": "stdout",
     "output_type": "stream",
     "text": [
      "F1 Score:\n",
      "0.9207459207459208\n"
     ]
    }
   ],
   "source": [
    "print(\"F1 Score:\")\n",
    "print(f1_score(y_test, y_pred_binary))"
   ]
  },
  {
   "cell_type": "code",
   "execution_count": 16,
   "metadata": {
    "colab": {
     "base_uri": "https://localhost:8080/"
    },
    "id": "8K2epI74e6mW",
    "outputId": "cdf074b8-3861-4af8-8e88-c11624682105"
   },
   "outputs": [
    {
     "name": "stdout",
     "output_type": "stream",
     "text": [
      "Classification Report:\n",
      "              precision    recall  f1-score   support\n",
      "\n",
      "           0       0.91      0.93      0.92       867\n",
      "           1       0.93      0.91      0.92       867\n",
      "\n",
      "    accuracy                           0.92      1734\n",
      "   macro avg       0.92      0.92      0.92      1734\n",
      "weighted avg       0.92      0.92      0.92      1734\n",
      "\n"
     ]
    }
   ],
   "source": [
    "print(\"Classification Report:\")\n",
    "print(classification_report(y_test, y_pred_binary))\n"
   ]
  },
  {
   "cell_type": "code",
   "execution_count": 17,
   "metadata": {
    "colab": {
     "base_uri": "https://localhost:8080/",
     "height": 564
    },
    "id": "IJZb8NX0fBaY",
    "outputId": "bbcb1f57-23aa-4c1c-b2dc-67851e440f94"
   },
   "outputs": [
    {
     "data": {
      "image/png": "[encoded data removed]",
      "text/plain": [
       "<Figure size 800x600 with 1 Axes>"
      ]
     },
     "metadata": {},
     "output_type": "display_data"
    }
   ],
   "source": [
    "conf_matrix = confusion_matrix(y_test, y_pred_binary)\n",
    "\n",
    "plt.figure(figsize=(8, 6))\n",
    "sns.heatmap(conf_matrix, annot=True, fmt='d', cmap='Blues', cbar=False)\n",
    "plt.title('Confusion Matrix')\n",
    "plt.xlabel('Predicted')\n",
    "plt.ylabel('Actual')\n",
    "plt.show()"
   ]
  },
  {
   "cell_type": "code",
   "execution_count": null,
   "metadata": {
    "id": "qWI0ggoemQoM"
   },
   "outputs": [],
   "source": []
  }
 ],
 "metadata": {
  "accelerator": "GPU",
  "colab": {
   "gpuType": "T4",
   "provenance": []
  },
  "kernelspec": {
   "display_name": "Python 3 (ipykernel)",
   "language": "python",
   "name": "python3"
  },
  "language_info": {
   "codemirror_mode": {
    "name": "ipython",
    "version": 3
   },
   "file_extension": ".py",
   "mimetype": "text/x-python",
   "name": "python",
   "nbconvert_exporter": "python",
   "pygments_lexer": "ipython3",
   "version": "3.11.5"
  }
 },
 "nbformat": 4,
 "nbformat_minor": 4
}
